{
 "cells": [
  {
   "cell_type": "markdown",
   "metadata": {},
   "source": [
    "# Project Description"
   ]
  },
  {
   "cell_type": "markdown",
   "metadata": {},
   "source": [
    "For a little background, I am a mechanical engineering major. Designing and building various machines is a large part of the field of engineering, so learning the theory behind machine design is a big focus in my major. \n",
    "\n",
    "At their most conceptual and simplified level, all mechanical machines can be broken down into a collection of four-bar linkages. Four-bar linkages are mechanisms made of four bars or links. Depending on their lengths and configuration, the links can rotate in different ways. The rotation of the links defines machine function. Adjusting the lengths changes the rotation of the mechanism and is a way to change the function of the machine. Thus, understanding how different link lengths change mechanism motion is conceptually important to machine design.\n",
    "\n",
    "This project lets the user create their own four-bar linkage mechanism and observe its motion. The user enters four link lengths, then the code checks if those link lengths are valid for a full-rotation four-bar linkage, and if so, calculates the linkage motion. The motion is displayed in an animation.\n",
    "\n",
    "Use the cells below to import the project functions and begin the simulator."
   ]
  },
  {
   "cell_type": "markdown",
   "metadata": {
    "slideshow": {
     "slide_type": "slide"
    }
   },
   "source": [
    "## Project Code\n",
    "\n",
    "Import project functions then uncomment and run four_bar_linkage to start simulator."
   ]
  },
  {
   "cell_type": "code",
   "execution_count": null,
   "metadata": {},
   "outputs": [],
   "source": [
    "%matplotlib inline\n",
    "\n",
    "from my_module.functions import *"
   ]
  },
  {
   "cell_type": "code",
   "execution_count": null,
   "metadata": {},
   "outputs": [],
   "source": [
    "# four_bar_linkage()"
   ]
  },
  {
   "cell_type": "markdown",
   "metadata": {},
   "source": [
    "#### Extra Credit (*optional*)\n",
    "\n",
    "I have experience with MATLAB but previous to taking this class, I had only used Python in very simple/brief ways and had never formally learned it before. I really enjoyed putting this project together and was challenged by needing to use more math/scipy functions than covered in class to do all of the computing. I also learned a lot about plotting and different ways to display plots and animations in jupyterhub, none of which I knew how to do before."
   ]
  }
 ],
 "metadata": {
  "kernelspec": {
   "display_name": "Python 3 (ipykernel)",
   "language": "python",
   "name": "python3"
  },
  "language_info": {
   "codemirror_mode": {
    "name": "ipython",
    "version": 3
   },
   "file_extension": ".py",
   "mimetype": "text/x-python",
   "name": "python",
   "nbconvert_exporter": "python",
   "pygments_lexer": "ipython3",
   "version": "3.9.5"
  }
 },
 "nbformat": 4,
 "nbformat_minor": 2
}
